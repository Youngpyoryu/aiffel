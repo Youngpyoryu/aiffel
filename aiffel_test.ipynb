{
  "nbformat": 4,
  "nbformat_minor": 0,
  "metadata": {
    "colab": {
      "name": "aiffel test.ipynb",
      "provenance": []
    },
    "kernelspec": {
      "name": "python3",
      "display_name": "Python 3"
    }
  },
  "cells": [
    {
      "cell_type": "markdown",
      "metadata": {
        "id": "y03FTXZcujFa"
      },
      "source": [
        "# House Sales in King County,USA\n",
        "\n",
        "## GOAl : Predict house price using regression\n",
        "\n",
        "This dataset contains house sale prices for King County, which includes Seattle. It includes homes sold between May 2014 and May 2015.\n",
        "\n",
        "- id :a notation for a house\n",
        "\n",
        "- date: Date house was sold\n",
        "\n",
        "- price: Price is prediction target\n",
        "\n",
        "- bedrooms: Number of Bedrooms/House\n",
        "\n",
        "- bathrooms: Number of bathrooms/bedrooms\n",
        "\n",
        "- sqft_living: square footage of the home\n",
        "\n",
        "- sqft_lot: square footage of the lot\n",
        "\n",
        "- floors :Total floors (levels) in house\n",
        "\n",
        "- waterfront :House which has a view to a waterfront\n",
        "\n",
        "- view: Has been viewed\n",
        "\n",
        "- condition :How good the condition is Overall\n",
        "\n",
        "- grade: overall grade given to the housing unit, based on King County grading system\n",
        "\n",
        "- sqft_above :square footage of house apart from basement\n",
        "\n",
        "- sqft_basement: square footage of the basement\n",
        "\n",
        "- yr_built :Built Year\n",
        "\n",
        "- yr_renovated :Year when house was renovated\n",
        "\n",
        "- zipcode:zip code\n",
        "\n",
        "- lat: Latitude coordinate\n",
        "\n",
        "- long: Longitude coordinate\n",
        "\n",
        "- sqft_living15 :Living room area in 2015(implies-- some renovations) This might or might not have affected the lotsize area\n",
        "\n",
        "- sqft_lot15 :lotSize area in 2015(implies-- some renovations)"
      ]
    },
    {
      "cell_type": "markdown",
      "metadata": {
        "id": "lJTk_Naswuvs"
      },
      "source": [
        "We are define data setting flow\n",
        "\n",
        "1. Data download (done)\n",
        "2. Exploratory data analysis\n",
        "3. Machine / Deep learning model define or working\n",
        "4. Result / Analysis\n",
        "5. feature engineering\n",
        "6. Re-train/Test (ex. Combination)\n",
        "7. Result / Analysis\n",
        "8. Improve Method\n",
        "\n",
        " - Reference : https://www.youtube.com/playlist?list=PL9mhQYIlKEhcAt2sm8l3BWx5DOFfhtYe4&fbclid=IwAR3P4VsYS7W1w-ifkZSt-g1E6XpNkkaeaadg04xKtZ1U3hQyqNoC92xRiAA "
      ]
    },
    {
      "cell_type": "markdown",
      "metadata": {
        "id": "3wZPldDYmlv6"
      },
      "source": [
        "#Load the CSV "
      ]
    },
    {
      "cell_type": "code",
      "metadata": {
        "id": "xm_t0BHomlII",
        "outputId": "e0ce5c47-0ac3-4618-9b2c-2e78d95faf8e",
        "colab": {
          "base_uri": "https://localhost:8080/"
        }
      },
      "source": [
        "file_name='https://s3-api.us-geo.objectstorage.softlayer.net/cf-courses-data/CognitiveClass/DA0101EN/coursera/project/kc_house_data_NaN.csv'\n",
        "print(file_name)"
      ],
      "execution_count": 2,
      "outputs": [
        {
          "output_type": "stream",
          "text": [
            "https://s3-api.us-geo.objectstorage.softlayer.net/cf-courses-data/CognitiveClass/DA0101EN/coursera/project/kc_house_data_NaN.csv\n"
          ],
          "name": "stdout"
        }
      ]
    },
    {
      "cell_type": "markdown",
      "metadata": {
        "id": "ETyY_LDL1pa4"
      },
      "source": [
        "## Question 1\n",
        "Display the data types of each column using the attribute dtype."
      ]
    },
    {
      "cell_type": "markdown",
      "metadata": {
        "id": "13EbQqPd3C2j"
      },
      "source": [
        "## Question 2\n",
        "Drop the columns \"id\" and \"Unnamed: 0\" from axis = 1 using the method drop(), then use the method describe() to obtain a \"statistical\" summary of the data."
      ]
    },
    {
      "cell_type": "markdown",
      "metadata": {
        "id": "Ek9bzDK7oBh5"
      },
      "source": [
        "#Question 2-1 \n",
        "What is the drop method? Describe a method that can be used instead of the drop method."
      ]
    },
    {
      "cell_type": "markdown",
      "metadata": {
        "id": "1WDW7a1rntFH"
      },
      "source": [
        "#Question 2-2\n",
        "\n",
        "what are the means of \"axis = 0\" and \"axis = 1\"?\n"
      ]
    },
    {
      "cell_type": "markdown",
      "metadata": {
        "id": "6RxwsxYH3Lh_"
      },
      "source": [
        "## Question 3\n",
        "Use the method value_counts to count the number of houses with unique floor values, use the method .to_frame() to convert it to a dataframe."
      ]
    },
    {
      "cell_type": "markdown",
      "metadata": {
        "id": "WcexN6A-oe_l"
      },
      "source": [
        "#Question 3-1 \n",
        "What is the data frame? Define the data frame."
      ]
    },
    {
      "cell_type": "markdown",
      "metadata": {
        "id": "nXH75OsT3LWU"
      },
      "source": [
        "##Question 4\n",
        "Use the function \"boxplot\" in the seaborn library to determine whether houses with a waterfront view or without a waterfront view have more price outliers ."
      ]
    },
    {
      "cell_type": "markdown",
      "metadata": {
        "id": "3rCsNRypr7jd"
      },
      "source": [
        "# Question 4-1\n",
        "\n",
        "What is the box plot? Define the box plot."
      ]
    },
    {
      "cell_type": "markdown",
      "metadata": {
        "id": "tmqunxIa3K41"
      },
      "source": [
        "## Question 5\n",
        "Use the function  \"regplot\" in the seaborn library to determine if the feature sqft_above is negatively or positively correlated with price."
      ]
    },
    {
      "cell_type": "markdown",
      "metadata": {
        "id": "IaW6-VWo3IgE"
      },
      "source": [
        "# Question 6\n",
        "Fit a linear regression model to predict the 'price' using the feature 'sqft_living' then calculate the R^2."
      ]
    },
    {
      "cell_type": "markdown",
      "metadata": {
        "id": "R11HzKHR3Jl-"
      },
      "source": [
        "# Question 6-1\n",
        "\n",
        "What is the R^2? Define the R^2.\n"
      ]
    },
    {
      "cell_type": "markdown",
      "metadata": {
        "id": "9ObyHdZ43JYu"
      },
      "source": [
        "# Question 7\n",
        "Fit a linear regression model to predict the 'price' using the list of features"
      ]
    },
    {
      "cell_type": "markdown",
      "metadata": {
        "id": "Dkhkn7OAtBtp"
      },
      "source": [
        "#Question 7-1 \n",
        "\n",
        "What is the linear regression? Define the linear regression."
      ]
    },
    {
      "cell_type": "markdown",
      "metadata": {
        "id": "tYQArqQctR07"
      },
      "source": [
        "# Question 8\n",
        "Use the list to create a pipeline object, predict the 'price', fit the object using the features in the list  features , then fit the model and calculate the R^2"
      ]
    },
    {
      "cell_type": "markdown",
      "metadata": {
        "id": "sVJbwUO4tWKs"
      },
      "source": [
        "# Question 9\n",
        "Create and fit a Ridge regression object using the training data, setting the regularization parameter to 0.1 and calculate the R^2 using the test data."
      ]
    },
    {
      "cell_type": "markdown",
      "metadata": {
        "id": "Kvk1ubtvtaiC"
      },
      "source": [
        "# Question 10\n",
        "Perform a second order polynomial transform on both the training data and testing data. Create and fit a Ridge regression object using the training data, setting the regularisation parameter to 0.1. Calculate the R^2 utilising the test data provided."
      ]
    },
    {
      "cell_type": "code",
      "metadata": {
        "id": "0rsyPogitBAi"
      },
      "source": [
        ""
      ],
      "execution_count": 2,
      "outputs": []
    },
    {
      "cell_type": "code",
      "metadata": {
        "id": "Oiss9f-HufHM"
      },
      "source": [
        ""
      ],
      "execution_count": null,
      "outputs": []
    }
  ]
}